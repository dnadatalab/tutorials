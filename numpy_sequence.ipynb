{
 "cells": [
  {
   "cell_type": "markdown",
   "metadata": {},
   "source": [
    "# EXPLORING ALIGNED GENETIC SEQUENCES IN PYTHON USING NUMPY\n",
    "\n",
    "### Introduction\n",
    "This is the best tutorial ever written!\n",
    "<dl>\n",
    "    <dt>SOFTWARE</dt>\n",
    "    <dd>Python 3.7.1</dd>\n",
    "    <dd>Numpy 1.15.4</dd>\n",
    "    <dd>Pandas 0.25.0</dd>\n",
    "</dl>\n",
    "\n",
    "### Methods"
   ]
  },
  {
   "cell_type": "code",
   "execution_count": 344,
   "metadata": {},
   "outputs": [],
   "source": [
    "from sys import getsizeof\n",
    "import random\n",
    "import numpy as np\n",
    "import pandas as pd"
   ]
  },
  {
   "cell_type": "markdown",
   "metadata": {},
   "source": [
    "#### Let's create a random [nucleotide](https://knowgenetics.org/nucleotides-and-bases/) sequence that is the average size of a Mycobacterial genome (5Mbp), and then compare the amount of space used when stored as a: **string**, **list**, and **ndarray**"
   ]
  },
  {
   "cell_type": "code",
   "execution_count": 343,
   "metadata": {},
   "outputs": [
    {
     "data": {
      "text/html": [
       "<div>\n",
       "<style scoped>\n",
       "    .dataframe tbody tr th:only-of-type {\n",
       "        vertical-align: middle;\n",
       "    }\n",
       "\n",
       "    .dataframe tbody tr th {\n",
       "        vertical-align: top;\n",
       "    }\n",
       "\n",
       "    .dataframe thead th {\n",
       "        text-align: right;\n",
       "    }\n",
       "</style>\n",
       "<table border=\"1\" class=\"dataframe\">\n",
       "  <thead>\n",
       "    <tr style=\"text-align: right;\">\n",
       "      <th></th>\n",
       "      <th>type</th>\n",
       "      <th>length</th>\n",
       "      <th>bytes</th>\n",
       "      <th>perItem</th>\n",
       "    </tr>\n",
       "  </thead>\n",
       "  <tbody>\n",
       "    <tr>\n",
       "      <th>1</th>\n",
       "      <td>&lt;class 'str'&gt;</td>\n",
       "      <td>5000000</td>\n",
       "      <td>5000049</td>\n",
       "      <td>1.000010</td>\n",
       "    </tr>\n",
       "    <tr>\n",
       "      <th>2</th>\n",
       "      <td>&lt;class 'numpy.ndarray'&gt;</td>\n",
       "      <td>5000000</td>\n",
       "      <td>20000096</td>\n",
       "      <td>4.000019</td>\n",
       "    </tr>\n",
       "    <tr>\n",
       "      <th>0</th>\n",
       "      <td>&lt;class 'list'&gt;</td>\n",
       "      <td>5000000</td>\n",
       "      <td>40215168</td>\n",
       "      <td>8.043034</td>\n",
       "    </tr>\n",
       "  </tbody>\n",
       "</table>\n",
       "</div>"
      ],
      "text/plain": [
       "                      type   length     bytes   perItem\n",
       "1            <class 'str'>  5000000   5000049  1.000010\n",
       "2  <class 'numpy.ndarray'>  5000000  20000096  4.000019\n",
       "0           <class 'list'>  5000000  40215168  8.043034"
      ]
     },
     "execution_count": 343,
     "metadata": {},
     "output_type": "execute_result"
    }
   ],
   "source": [
    "seq_list = random.choices('ATCG', k=5000000)\n",
    "seq_str = ''.join(seq_list)\n",
    "seq_array = np.array(seq_list)\n",
    "records = [{'type': type(seq),\n",
    "            'length': len(seq),\n",
    "            'bytes': getsizeof(seq), \n",
    "            'perItem': getsizeof(seq)/len(seq)} \n",
    "           for seq in (seq_list, seq_str, seq_array)]\n",
    "pd.DataFrame.from_records(records).sort_values('perItem')"
   ]
  },
  {
   "cell_type": "markdown",
   "metadata": {},
   "source": [
    "#### The string is clearly the most efficient storage of the sequence, followed by the ndarray at 4x and finally the list at 8x. However, since we are interested in using the built in methods of a numpy array, let's figure out why it uses more space and how we can use less."
   ]
  },
  {
   "cell_type": "code",
   "execution_count": 246,
   "metadata": {},
   "outputs": [
    {
     "name": "stdout",
     "output_type": "stream",
     "text": [
      "Data Type: <U1\n",
      "Item Size: 4 bytes\n"
     ]
    }
   ],
   "source": [
    "print(f\"Data Type: {seq_array.dtype}\")\n",
    "print(f\"Item Size: {seq_array.dtype.itemsize} bytes\")\n"
   ]
  },
  {
   "cell_type": "markdown",
   "metadata": {},
   "source": [
    "#### The default datatype for each nucleotide is a \"1 character unicode\" that takes up 4 bytes.  We can declare a specific datatype when initializing our numpy array, and the smallest datatype that numpy supports is **int8** at only 1 byte. So, let's convert the nucleotides into integers using the **ord()** function."
   ]
  },
  {
   "cell_type": "code",
   "execution_count": 329,
   "metadata": {},
   "outputs": [
    {
     "name": "stdout",
     "output_type": "stream",
     "text": [
      "Sequence: [67 71 67 ... 84 67 71]\n",
      "Size    : 5000096 bytes\n"
     ]
    }
   ],
   "source": [
    "int_array = np.array([ord(char) for char in seq_list], dtype=np.int8)  # Convert chars to int and create ndarray\n",
    "print(f\"Sequence: {int_array}\")\n",
    "print(f\"Size    : {getsizeof(int_array)} bytes\")\n"
   ]
  },
  {
   "cell_type": "markdown",
   "metadata": {},
   "source": [
    "#### Now we have an ndarray that is nearly the same size as a string!"
   ]
  },
  {
   "cell_type": "code",
   "execution_count": 255,
   "metadata": {},
   "outputs": [],
   "source": [
    "positions = random.sample(range(0, 5000001), 100)    # Create a list of random integers between 0 and 5000000\n",
    "mutants = [                                          # Create list of 4 sequence lists with random mutations\n",
    "    [ord(char) if i not in positions else ord(random.choice('ATCG')) for (i, char) in enumerate(string_sequence)] \n",
    "    for _ in range(4)]"
   ]
  },
  {
   "cell_type": "code",
   "execution_count": 256,
   "metadata": {},
   "outputs": [],
   "source": [
    "matrix = np.stack(np.array(mutant, dtype=np.int8) for mutant in mutants)"
   ]
  },
  {
   "cell_type": "code",
   "execution_count": 335,
   "metadata": {},
   "outputs": [
    {
     "name": "stdout",
     "output_type": "stream",
     "text": [
      "Shape: (4, 5000000)\n"
     ]
    },
    {
     "data": {
      "text/plain": [
       "array([[65, 67, 67, ..., 84, 67, 67],\n",
       "       [65, 67, 67, ..., 84, 67, 67],\n",
       "       [65, 67, 67, ..., 84, 67, 67],\n",
       "       [65, 67, 67, ..., 84, 67, 67]], dtype=int8)"
      ]
     },
     "execution_count": 335,
     "metadata": {},
     "output_type": "execute_result"
    }
   ],
   "source": [
    "print(f\"Shape: {matrix.shape}\")\n",
    "matrix"
   ]
  },
  {
   "cell_type": "markdown",
   "metadata": {},
   "source": [
    "#### Now we have a matrix of 4 aligned sequences with 5000000 nucleotides each. Let's take a look at position 6 *(remember we start counting at 0)* "
   ]
  },
  {
   "cell_type": "code",
   "execution_count": 337,
   "metadata": {},
   "outputs": [
    {
     "name": "stdout",
     "output_type": "stream",
     "text": [
      "[84 84 84 84]\n"
     ]
    }
   ],
   "source": [
    "print(matrix[:,5])"
   ]
  },
  {
   "cell_type": "markdown",
   "metadata": {},
   "source": [
    "#### It looks like all four sequences have the same nucleotide... 84?  Let's use the **chr()** function to convert the integers back to ASCII characters."
   ]
  },
  {
   "cell_type": "code",
   "execution_count": 339,
   "metadata": {},
   "outputs": [
    {
     "data": {
      "text/plain": [
       "['T', 'T', 'T', 'T']"
      ]
     },
     "execution_count": 339,
     "metadata": {},
     "output_type": "execute_result"
    }
   ],
   "source": [
    "[chr(i) for i in matrix[:,5]]    # Convert all values at position 6 to ASCII"
   ]
  },
  {
   "cell_type": "code",
   "execution_count": 346,
   "metadata": {},
   "outputs": [],
   "source": [
    "SNPS = [i for i in range(matrix.shape[1]) if len(np.unique(matrix[:,i])) > 1]"
   ]
  },
  {
   "cell_type": "code",
   "execution_count": 347,
   "metadata": {},
   "outputs": [
    {
     "name": "stdout",
     "output_type": "stream",
     "text": [
      "Positions with variability   : 99\n",
      "Indicies without variability : {2041911}\n"
     ]
    }
   ],
   "source": [
    "print(f\"Positions with variability   : {len(SNPS)}\")\n",
    "print(f\"Indicies without variability : {set(positions) - set(SNPS)}\")"
   ]
  },
  {
   "cell_type": "markdown",
   "metadata": {},
   "source": [
    "#### Of the 100 mutated positions, only 1 was mutated to the same nucleotide in all four sequences."
   ]
  },
  {
   "cell_type": "code",
   "execution_count": null,
   "metadata": {},
   "outputs": [],
   "source": []
  },
  {
   "cell_type": "markdown",
   "metadata": {},
   "source": []
  }
 ],
 "metadata": {
  "kernelspec": {
   "display_name": "Python 3",
   "language": "python",
   "name": "python3"
  },
  "language_info": {
   "codemirror_mode": {
    "name": "ipython",
    "version": 3
   },
   "file_extension": ".py",
   "mimetype": "text/x-python",
   "name": "python",
   "nbconvert_exporter": "python",
   "pygments_lexer": "ipython3",
   "version": "3.7.1"
  }
 },
 "nbformat": 4,
 "nbformat_minor": 4
}
